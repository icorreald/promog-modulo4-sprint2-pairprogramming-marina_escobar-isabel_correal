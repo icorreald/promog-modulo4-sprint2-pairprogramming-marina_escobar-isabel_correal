{
 "cells": [
  {
   "cell_type": "code",
   "execution_count": 1,
   "metadata": {},
   "outputs": [],
   "source": [
    "import pandas as pd\n",
    "import numpy as np\n",
    "import re\n",
    "\n",
    "pd.set_option('display.max_columns', None)"
   ]
  },
  {
   "cell_type": "code",
   "execution_count": 40,
   "metadata": {},
   "outputs": [],
   "source": [
    "df_lyrics2 = pd.read_csv('files/lyrics.csv')\n",
    "df_last_album = pd.read_csv('files/lyrics_new_album.csv', index_col=0)\n"
   ]
  },
  {
   "cell_type": "code",
   "execution_count": 41,
   "metadata": {},
   "outputs": [],
   "source": [
    "df_genres = pd.read_csv('files/genres_to_songs.csv')"
   ]
  },
  {
   "cell_type": "code",
   "execution_count": 42,
   "metadata": {},
   "outputs": [],
   "source": [
    "df_last_album['lyrics'] = df_last_album['lyrics'].apply(lambda x : re.sub(r'\\[.*?\\]', '', x).strip().replace('\\n', '  '))\n"
   ]
  },
  {
   "cell_type": "code",
   "execution_count": 43,
   "metadata": {},
   "outputs": [],
   "source": [
    "df_last_album['Album'] = 'The Tortured Poets Department'"
   ]
  },
  {
   "cell_type": "code",
   "execution_count": 44,
   "metadata": {},
   "outputs": [],
   "source": [
    "df_last_album = df_last_album.reindex(columns = ['song', 'Album', 'lyrics'])"
   ]
  },
  {
   "cell_type": "code",
   "execution_count": 45,
   "metadata": {},
   "outputs": [],
   "source": [
    "df_last_album.columns = ['Song', 'Album', 'Lyrics']"
   ]
  },
  {
   "cell_type": "code",
   "execution_count": 46,
   "metadata": {},
   "outputs": [
    {
     "data": {
      "text/plain": [
       "array(['Red (Taylor’s Version)', 'Lover', '1989 (Deluxe)',\n",
       "       'Midnights (3am Edition)', 'Taylor Swift', 'Speak Now',\n",
       "       'Cats: Highlights From the Motion Picture Soundtrack',\n",
       "       'Fearless (Taylor’s Version)', 'reputation', 'evermore',\n",
       "       'The Taylor Swift Holiday Collection - EP',\n",
       "       'Women in Music Pt. III (Expanded Edition)',\n",
       "       'Two Lanes of Freedom (Accelerated Deluxe)',\n",
       "       'Midnights (Target Exclusive)',\n",
       "       'Fifty Shades Darker (Original Motion Picture Soundtrack)',\n",
       "       'Speak Now (Deluxe)', 'Taylor Swift (Best Buy Exclusive)', nan,\n",
       "       'How Long Do You Think It’s Gonna Last?',\n",
       "       'The Hunger Games: Songs from District 12 and Beyond',\n",
       "       'One Chance (Original Motion Picture Soundtrack)',\n",
       "       '1989 (Taylor’s Version)', 'Love Drunk',\n",
       "       'Hannah Montana: The Movie',\n",
       "       'Carolina (From The Motion Picture “Where The Crawdads Sing”) - Single',\n",
       "       'Christmas Tree Farm', 'folklore', 'folklore (deluxe version)',\n",
       "       'evermore (deluxe version)'], dtype=object)"
      ]
     },
     "execution_count": 46,
     "metadata": {},
     "output_type": "execute_result"
    }
   ],
   "source": [
    "df_lyrics2['Album'].unique()"
   ]
  },
  {
   "cell_type": "code",
   "execution_count": 47,
   "metadata": {},
   "outputs": [],
   "source": [
    "albumes = ['Red (Taylor’s Version)', \n",
    "           'Lover',\n",
    "           '1989 (Deluxe)',\n",
    "           'Midnights (3am Edition)',\n",
    "           'Taylor Swift',\n",
    "           'Speak Now (Deluxe)',\n",
    "           'Fearless (Taylor’s Version)',\n",
    "           'reputation',\n",
    "           'evermore (deluxe version)',\n",
    "           'folklore (deluxe version)',\n",
    "           'folklore',\n",
    "           'evermore',\n",
    "           'Speak Now',\n",
    "           '1989 (Taylor’s Version)']\n",
    "\n",
    "df_lyrics_filtrado = df_lyrics2[df_lyrics2['Album'].isin(albumes)]"
   ]
  },
  {
   "cell_type": "code",
   "execution_count": 48,
   "metadata": {},
   "outputs": [],
   "source": [
    "diccionario = {}\n",
    "\n",
    "for track in df_lyrics_filtrado['Song']:\n",
    "    \n",
    "    df_especific = df_lyrics_filtrado[df_lyrics_filtrado['Song'] == track]\n",
    "    cadena = \"  \".join(df_especific['Lyric'])\n",
    "    diccionario[track] = cadena"
   ]
  },
  {
   "cell_type": "code",
   "execution_count": 49,
   "metadata": {},
   "outputs": [],
   "source": [
    "df_lyrics_clean = df_lyrics_filtrado.drop_duplicates(subset = 'Song')"
   ]
  },
  {
   "cell_type": "code",
   "execution_count": 50,
   "metadata": {},
   "outputs": [],
   "source": [
    "lista_a_dropear = []\n",
    "\n",
    "for cancion in df_lyrics_clean['Song']:\n",
    "    \n",
    "    if '[From the Vault]' in cancion:\n",
    "        lista_a_dropear.append(cancion)"
   ]
  },
  {
   "cell_type": "code",
   "execution_count": 51,
   "metadata": {},
   "outputs": [],
   "source": [
    "df_lyrics_clean = df_lyrics_clean[~df_lyrics_clean['Song'].isin(lista_a_dropear)]"
   ]
  },
  {
   "cell_type": "code",
   "execution_count": 52,
   "metadata": {},
   "outputs": [],
   "source": [
    "df_lyrics_clean['Lyrics'] = df_lyrics_clean.apply(lambda x : diccionario[x['Song']], axis=1)"
   ]
  },
  {
   "cell_type": "code",
   "execution_count": 53,
   "metadata": {},
   "outputs": [],
   "source": [
    "df_lyrics_clean.drop(columns = ['Lyric', 'Previous Lyric', 'Next Lyric', 'Multiplicity'], inplace=True)"
   ]
  },
  {
   "cell_type": "code",
   "execution_count": 54,
   "metadata": {},
   "outputs": [],
   "source": [
    "df_lyrics_clean = df_lyrics_clean.reset_index().drop('index', axis=1)"
   ]
  },
  {
   "cell_type": "code",
   "execution_count": 55,
   "metadata": {},
   "outputs": [],
   "source": [
    "df_lyrics = pd.concat([df_lyrics_clean, df_last_album], ignore_index=True)"
   ]
  },
  {
   "cell_type": "code",
   "execution_count": 56,
   "metadata": {},
   "outputs": [],
   "source": [
    "df_lyrics['Song'] = df_lyrics['Song'].apply(lambda x : x.replace(' (Taylor’s Version)', ''))\n",
    "df_lyrics['Song'] = df_lyrics['Song'].apply(lambda x : x.replace('(Taylor’s Version)', ''))\n",
    "df_lyrics['Album'] = df_lyrics['Album'].apply(lambda x : x.replace(' (Taylor’s Version)', ''))\n",
    "df_lyrics['Album'] = df_lyrics['Album'].apply(lambda x : x.replace(' (Deluxe)', ''))\n",
    "df_lyrics['Song'] = df_lyrics['Song'].apply(lambda x : x.replace(' (Pop Version)', ''))\n",
    "df_lyrics['Song'] = df_lyrics['Song'].apply(lambda x : x.replace('(Radio Edit)', ''))"
   ]
  },
  {
   "cell_type": "code",
   "execution_count": 57,
   "metadata": {},
   "outputs": [],
   "source": [
    "diccionario_cambios = {'...Ready for It?' : '…Ready for It?',\n",
    "                       'So It Goes...' : 'So It Goes…',\n",
    "                       '’tis the damn season' : '‘tis the damn season',\n",
    "                       'l​ong story short' : 'long story short',\n",
    "                       \"Who's Afraid of Little Old Me?\" : 'Who’s Afraid of Little Old Me?',\n",
    "                       'You’re Not Sorry' : \"You're Not Sorry\",\n",
    "                       'You’re On Your Own, Kid' : \"You're on Your Own, Kid\",\n",
    "                       'Would’ve, Could’ve, Should’ve' : \"Would've, Could've, Should've\"}\n",
    "\n",
    "df_lyrics['Song'] = df_lyrics['Song'].map(diccionario_cambios).fillna(df_lyrics['Song'])"
   ]
  },
  {
   "cell_type": "code",
   "execution_count": 58,
   "metadata": {},
   "outputs": [],
   "source": [
    "words = ['In ', 'On ', 'At ', 'By ', 'For ', 'With ', 'From ', 'To ', 'Into ', 'Onto ', 'Of ', 'About ', 'Above ', 'Below ', 'Under ', 'Over ', 'Through ', 'Between ', 'Among ', 'Within ', 'The ', 'But ', 'A ', 'Oh ', 'Oh,', 'It ', 'If ', 'How ', 'Where ', 'When ', 'What ', 'Who ', 'Why ', 'But ', 'Because ', 'An ', 'And ', 'May ']\n",
    "pattern = r\"'[^ ]*\"\n",
    "df_lyrics['Lyrics'] = df_lyrics['Lyrics'].apply(lambda x : re.sub(pattern, '', x))\n",
    "\n",
    "for word in words:\n",
    "    df_lyrics['Lyrics'] = df_lyrics['Lyrics'].str.replace(word , ' ')\n",
    "    df_lyrics['Lyrics'] = df_lyrics['Lyrics'].str.replace(f' {word.lower()}' , ' ')\n"
   ]
  },
  {
   "cell_type": "code",
   "execution_count": 59,
   "metadata": {},
   "outputs": [],
   "source": [
    "df_lyrics['song'] = df_lyrics['Song'].str.lower().str.strip()\n",
    "df_genres['song'] = df_genres['song'].str.lower().str.strip()"
   ]
  },
  {
   "cell_type": "code",
   "execution_count": 60,
   "metadata": {},
   "outputs": [],
   "source": [
    "df_genres = df_genres.merge(df_lyrics, left_on='song', right_on='song', how='left')"
   ]
  },
  {
   "cell_type": "code",
   "execution_count": 61,
   "metadata": {},
   "outputs": [
    {
     "data": {
      "text/plain": [
       "array([], dtype=object)"
      ]
     },
     "execution_count": 61,
     "metadata": {},
     "output_type": "execute_result"
    }
   ],
   "source": [
    "df_genres[df_genres['Song'].isnull()]['song'].unique()"
   ]
  },
  {
   "cell_type": "code",
   "execution_count": 62,
   "metadata": {},
   "outputs": [],
   "source": [
    "df_genres.drop(['song', 'album'], axis=1, inplace=True)"
   ]
  },
  {
   "cell_type": "code",
   "execution_count": 63,
   "metadata": {},
   "outputs": [],
   "source": [
    "df_genres = df_genres.reindex(columns = ['Album', 'Song', 'genre', 'Lyrics'])"
   ]
  },
  {
   "cell_type": "code",
   "execution_count": 64,
   "metadata": {},
   "outputs": [],
   "source": [
    "df_genres = df_genres.sort_values('Song', ascending=True)"
   ]
  },
  {
   "cell_type": "code",
   "execution_count": 65,
   "metadata": {},
   "outputs": [
    {
     "data": {
      "text/html": [
       "<div>\n",
       "<style scoped>\n",
       "    .dataframe tbody tr th:only-of-type {\n",
       "        vertical-align: middle;\n",
       "    }\n",
       "\n",
       "    .dataframe tbody tr th {\n",
       "        vertical-align: top;\n",
       "    }\n",
       "\n",
       "    .dataframe thead th {\n",
       "        text-align: right;\n",
       "    }\n",
       "</style>\n",
       "<table border=\"1\" class=\"dataframe\">\n",
       "  <thead>\n",
       "    <tr style=\"text-align: right;\">\n",
       "      <th></th>\n",
       "      <th>Album</th>\n",
       "      <th>Song</th>\n",
       "      <th>genre</th>\n",
       "      <th>Lyrics</th>\n",
       "    </tr>\n",
       "  </thead>\n",
       "  <tbody>\n",
       "    <tr>\n",
       "      <th>68</th>\n",
       "      <td>Red</td>\n",
       "      <td>22</td>\n",
       "      <td>Fiestas y Tradiciones</td>\n",
       "      <td>feels like perfect night   dress up like hips...</td>\n",
       "    </tr>\n",
       "    <tr>\n",
       "      <th>57</th>\n",
       "      <td>Red</td>\n",
       "      <td>22</td>\n",
       "      <td>Música disco</td>\n",
       "      <td>feels like perfect night   dress up like hips...</td>\n",
       "    </tr>\n",
       "    <tr>\n",
       "      <th>74</th>\n",
       "      <td>Red</td>\n",
       "      <td>22</td>\n",
       "      <td>Dance pop</td>\n",
       "      <td>feels like perfect night   dress up like hips...</td>\n",
       "    </tr>\n",
       "    <tr>\n",
       "      <th>75</th>\n",
       "      <td>Red</td>\n",
       "      <td>22</td>\n",
       "      <td>Bubblegum pop</td>\n",
       "      <td>feels like perfect night   dress up like hips...</td>\n",
       "    </tr>\n",
       "    <tr>\n",
       "      <th>51</th>\n",
       "      <td>Red</td>\n",
       "      <td>22</td>\n",
       "      <td>Pop</td>\n",
       "      <td>feels like perfect night   dress up like hips...</td>\n",
       "    </tr>\n",
       "    <tr>\n",
       "      <th>...</th>\n",
       "      <td>...</td>\n",
       "      <td>...</td>\n",
       "      <td>...</td>\n",
       "      <td>...</td>\n",
       "    </tr>\n",
       "    <tr>\n",
       "      <th>101</th>\n",
       "      <td>reputation</td>\n",
       "      <td>…Ready for It?</td>\n",
       "      <td>Pop</td>\n",
       "      <td>Knew he was killer first time that I saw him  ...</td>\n",
       "    </tr>\n",
       "    <tr>\n",
       "      <th>107</th>\n",
       "      <td>reputation</td>\n",
       "      <td>…Ready for It?</td>\n",
       "      <td>Música infantil</td>\n",
       "      <td>Knew he was killer first time that I saw him  ...</td>\n",
       "    </tr>\n",
       "    <tr>\n",
       "      <th>110</th>\n",
       "      <td>reputation</td>\n",
       "      <td>…Ready for It?</td>\n",
       "      <td>Electropop</td>\n",
       "      <td>Knew he was killer first time that I saw him  ...</td>\n",
       "    </tr>\n",
       "    <tr>\n",
       "      <th>125</th>\n",
       "      <td>reputation</td>\n",
       "      <td>…Ready for It?</td>\n",
       "      <td>Música industrial</td>\n",
       "      <td>Knew he was killer first time that I saw him  ...</td>\n",
       "    </tr>\n",
       "    <tr>\n",
       "      <th>114</th>\n",
       "      <td>reputation</td>\n",
       "      <td>…Ready for It?</td>\n",
       "      <td>R&amp;BSoul</td>\n",
       "      <td>Knew he was killer first time that I saw him  ...</td>\n",
       "    </tr>\n",
       "  </tbody>\n",
       "</table>\n",
       "<p>270 rows × 4 columns</p>\n",
       "</div>"
      ],
      "text/plain": [
       "          Album            Song                  genre  \\\n",
       "68          Red              22  Fiestas y Tradiciones   \n",
       "57          Red              22           Música disco   \n",
       "74          Red              22              Dance pop   \n",
       "75          Red              22          Bubblegum pop   \n",
       "51          Red              22                    Pop   \n",
       "..          ...             ...                    ...   \n",
       "101  reputation  …Ready for It?                    Pop   \n",
       "107  reputation  …Ready for It?        Música infantil   \n",
       "110  reputation  …Ready for It?             Electropop   \n",
       "125  reputation  …Ready for It?      Música industrial   \n",
       "114  reputation  …Ready for It?                R&BSoul   \n",
       "\n",
       "                                                Lyrics  \n",
       "68    feels like perfect night   dress up like hips...  \n",
       "57    feels like perfect night   dress up like hips...  \n",
       "74    feels like perfect night   dress up like hips...  \n",
       "75    feels like perfect night   dress up like hips...  \n",
       "51    feels like perfect night   dress up like hips...  \n",
       "..                                                 ...  \n",
       "101  Knew he was killer first time that I saw him  ...  \n",
       "107  Knew he was killer first time that I saw him  ...  \n",
       "110  Knew he was killer first time that I saw him  ...  \n",
       "125  Knew he was killer first time that I saw him  ...  \n",
       "114  Knew he was killer first time that I saw him  ...  \n",
       "\n",
       "[270 rows x 4 columns]"
      ]
     },
     "execution_count": 65,
     "metadata": {},
     "output_type": "execute_result"
    }
   ],
   "source": [
    "df_genres"
   ]
  },
  {
   "cell_type": "code",
   "execution_count": 77,
   "metadata": {},
   "outputs": [],
   "source": [
    "#df_genres.to_csv('files/taylor_full_lyrics_w_genre.csv', index=False)"
   ]
  },
  {
   "cell_type": "markdown",
   "metadata": {},
   "source": [
    "## Limpieza DF Twitter"
   ]
  },
  {
   "cell_type": "code",
   "execution_count": 67,
   "metadata": {},
   "outputs": [],
   "source": [
    "df_tuits = pd.read_csv('files/TaylorSwift13.csv')"
   ]
  },
  {
   "cell_type": "code",
   "execution_count": 68,
   "metadata": {},
   "outputs": [],
   "source": [
    "df_tuits.drop('created_at', axis=1, inplace=True)"
   ]
  },
  {
   "cell_type": "code",
   "execution_count": 69,
   "metadata": {},
   "outputs": [],
   "source": [
    "df_tuits['date'] = df_tuits['date'].apply(lambda x : x.replace('+00:00', ''))"
   ]
  },
  {
   "cell_type": "code",
   "execution_count": 70,
   "metadata": {},
   "outputs": [],
   "source": [
    "df_tuits['media'] = df_tuits['media'].apply(lambda x : 1 if isinstance(x, str) else 0)\n",
    "df_tuits['outlinks'] = df_tuits['outlinks'].apply(lambda x : 0 if x == '[]' else 1)\n",
    "df_tuits['quotedTweet'] = df_tuits['quotedTweet'].apply(lambda x : 1 if isinstance(x, str) else 0)\n",
    "df_tuits['retweetedTweet'] = df_tuits['retweetedTweet'].apply(lambda x : 1 if isinstance(x, str) else 0)\n",
    "\n",
    "df_tuits['content'] = df_tuits['content'].apply(lambda x : x.replace('\\n', ' '))"
   ]
  },
  {
   "cell_type": "code",
   "execution_count": 71,
   "metadata": {},
   "outputs": [],
   "source": [
    "df_tuits['users'] = df_tuits.apply(lambda x : re.findall(r'@\\S+', x['content']), axis=1)"
   ]
  },
  {
   "cell_type": "code",
   "execution_count": 72,
   "metadata": {},
   "outputs": [],
   "source": [
    "df_citados = df_tuits[['content', 'date', 'users']]"
   ]
  },
  {
   "cell_type": "code",
   "execution_count": 73,
   "metadata": {},
   "outputs": [],
   "source": [
    "df_tuits.drop('users', axis=1, inplace=True)"
   ]
  },
  {
   "cell_type": "code",
   "execution_count": 74,
   "metadata": {},
   "outputs": [],
   "source": [
    "df_citados = df_citados.explode('users')"
   ]
  },
  {
   "cell_type": "code",
   "execution_count": 75,
   "metadata": {},
   "outputs": [],
   "source": [
    "df_citados.dropna(subset='users', inplace = True)"
   ]
  },
  {
   "cell_type": "code",
   "execution_count": 76,
   "metadata": {},
   "outputs": [],
   "source": [
    "#df_tuits.to_csv('files/taylor_tuits_limpio.csv', index=False)\n",
    "#df_citados.to_csv('files/taylor_tuits_citados.csv', index=False)"
   ]
  },
  {
   "cell_type": "markdown",
   "metadata": {},
   "source": [
    "## Creación tabla extra spoti"
   ]
  },
  {
   "cell_type": "code",
   "execution_count": 20,
   "metadata": {},
   "outputs": [],
   "source": [
    "df = pd.read_csv('files/all_songs_audio_data.csv', index_col=0)"
   ]
  },
  {
   "cell_type": "code",
   "execution_count": 21,
   "metadata": {},
   "outputs": [],
   "source": [
    "df_auxiliar = df.groupby('album')[['acousticness', 'danceability', 'energy', 'instrumentalness',\n",
    "       'liveness', 'loudness', 'speechiness', 'tempo', 'valence']].mean().reset_index()"
   ]
  },
  {
   "cell_type": "code",
   "execution_count": 22,
   "metadata": {},
   "outputs": [],
   "source": [
    "diccionario = {'album':[], 'category': [], 'mean':[]}"
   ]
  },
  {
   "cell_type": "code",
   "execution_count": 23,
   "metadata": {},
   "outputs": [
    {
     "data": {
      "text/html": [
       "<div>\n",
       "<style scoped>\n",
       "    .dataframe tbody tr th:only-of-type {\n",
       "        vertical-align: middle;\n",
       "    }\n",
       "\n",
       "    .dataframe tbody tr th {\n",
       "        vertical-align: top;\n",
       "    }\n",
       "\n",
       "    .dataframe thead th {\n",
       "        text-align: right;\n",
       "    }\n",
       "</style>\n",
       "<table border=\"1\" class=\"dataframe\">\n",
       "  <thead>\n",
       "    <tr style=\"text-align: right;\">\n",
       "      <th></th>\n",
       "      <th>album</th>\n",
       "      <th>acousticness</th>\n",
       "      <th>danceability</th>\n",
       "      <th>energy</th>\n",
       "      <th>instrumentalness</th>\n",
       "      <th>liveness</th>\n",
       "      <th>loudness</th>\n",
       "      <th>speechiness</th>\n",
       "      <th>tempo</th>\n",
       "      <th>valence</th>\n",
       "    </tr>\n",
       "  </thead>\n",
       "  <tbody>\n",
       "    <tr>\n",
       "      <th>0</th>\n",
       "      <td>1989 (Deluxe Edition)</td>\n",
       "      <td>0.244620</td>\n",
       "      <td>0.633211</td>\n",
       "      <td>0.624842</td>\n",
       "      <td>0.000704</td>\n",
       "      <td>0.203211</td>\n",
       "      <td>-7.924105</td>\n",
       "      <td>0.173453</td>\n",
       "      <td>127.033053</td>\n",
       "      <td>0.454211</td>\n",
       "    </tr>\n",
       "    <tr>\n",
       "      <th>1</th>\n",
       "      <td>Fearless Platinum Edition</td>\n",
       "      <td>0.202448</td>\n",
       "      <td>0.575947</td>\n",
       "      <td>0.601053</td>\n",
       "      <td>0.000002</td>\n",
       "      <td>0.159826</td>\n",
       "      <td>-5.708211</td>\n",
       "      <td>0.031905</td>\n",
       "      <td>123.089263</td>\n",
       "      <td>0.380053</td>\n",
       "    </tr>\n",
       "    <tr>\n",
       "      <th>2</th>\n",
       "      <td>Lover</td>\n",
       "      <td>0.333743</td>\n",
       "      <td>0.658222</td>\n",
       "      <td>0.545222</td>\n",
       "      <td>0.000733</td>\n",
       "      <td>0.115233</td>\n",
       "      <td>-8.013278</td>\n",
       "      <td>0.099117</td>\n",
       "      <td>119.972722</td>\n",
       "      <td>0.481444</td>\n",
       "    </tr>\n",
       "    <tr>\n",
       "      <th>3</th>\n",
       "      <td>Midnights (3am Edition)</td>\n",
       "      <td>0.413220</td>\n",
       "      <td>0.626650</td>\n",
       "      <td>0.451150</td>\n",
       "      <td>0.018134</td>\n",
       "      <td>0.150235</td>\n",
       "      <td>-10.588050</td>\n",
       "      <td>0.092075</td>\n",
       "      <td>119.744950</td>\n",
       "      <td>0.282530</td>\n",
       "    </tr>\n",
       "    <tr>\n",
       "      <th>4</th>\n",
       "      <td>Red (Deluxe Edition)</td>\n",
       "      <td>0.148799</td>\n",
       "      <td>0.633364</td>\n",
       "      <td>0.600773</td>\n",
       "      <td>0.001802</td>\n",
       "      <td>0.126214</td>\n",
       "      <td>-7.380045</td>\n",
       "      <td>0.036577</td>\n",
       "      <td>110.296727</td>\n",
       "      <td>0.468191</td>\n",
       "    </tr>\n",
       "    <tr>\n",
       "      <th>5</th>\n",
       "      <td>Speak Now (Deluxe Edition)</td>\n",
       "      <td>0.249275</td>\n",
       "      <td>0.556450</td>\n",
       "      <td>0.647900</td>\n",
       "      <td>0.000046</td>\n",
       "      <td>0.172500</td>\n",
       "      <td>-4.726250</td>\n",
       "      <td>0.034670</td>\n",
       "      <td>136.375600</td>\n",
       "      <td>0.416950</td>\n",
       "    </tr>\n",
       "    <tr>\n",
       "      <th>6</th>\n",
       "      <td>THE TORTURED POETS DEPARTMENT: THE ANTHOLOGY</td>\n",
       "      <td>0.580152</td>\n",
       "      <td>0.527903</td>\n",
       "      <td>0.460613</td>\n",
       "      <td>0.000214</td>\n",
       "      <td>0.150045</td>\n",
       "      <td>-9.381258</td>\n",
       "      <td>0.056729</td>\n",
       "      <td>122.102097</td>\n",
       "      <td>0.318355</td>\n",
       "    </tr>\n",
       "    <tr>\n",
       "      <th>7</th>\n",
       "      <td>Taylor Swift</td>\n",
       "      <td>0.182995</td>\n",
       "      <td>0.545267</td>\n",
       "      <td>0.664267</td>\n",
       "      <td>0.000054</td>\n",
       "      <td>0.160773</td>\n",
       "      <td>-4.731667</td>\n",
       "      <td>0.032687</td>\n",
       "      <td>126.053800</td>\n",
       "      <td>0.426533</td>\n",
       "    </tr>\n",
       "    <tr>\n",
       "      <th>8</th>\n",
       "      <td>evermore (deluxe version)</td>\n",
       "      <td>0.794118</td>\n",
       "      <td>0.526824</td>\n",
       "      <td>0.494059</td>\n",
       "      <td>0.020617</td>\n",
       "      <td>0.113588</td>\n",
       "      <td>-9.781588</td>\n",
       "      <td>0.057906</td>\n",
       "      <td>120.707294</td>\n",
       "      <td>0.433529</td>\n",
       "    </tr>\n",
       "    <tr>\n",
       "      <th>9</th>\n",
       "      <td>folklore (deluxe version)</td>\n",
       "      <td>0.717588</td>\n",
       "      <td>0.541941</td>\n",
       "      <td>0.415824</td>\n",
       "      <td>0.000302</td>\n",
       "      <td>0.110465</td>\n",
       "      <td>-10.336059</td>\n",
       "      <td>0.039482</td>\n",
       "      <td>119.884412</td>\n",
       "      <td>0.361353</td>\n",
       "    </tr>\n",
       "    <tr>\n",
       "      <th>10</th>\n",
       "      <td>reputation</td>\n",
       "      <td>0.138515</td>\n",
       "      <td>0.657933</td>\n",
       "      <td>0.582867</td>\n",
       "      <td>0.000044</td>\n",
       "      <td>0.152153</td>\n",
       "      <td>-7.672400</td>\n",
       "      <td>0.095120</td>\n",
       "      <td>127.540133</td>\n",
       "      <td>0.293400</td>\n",
       "    </tr>\n",
       "  </tbody>\n",
       "</table>\n",
       "</div>"
      ],
      "text/plain": [
       "                                           album  acousticness  danceability  \\\n",
       "0                          1989 (Deluxe Edition)      0.244620      0.633211   \n",
       "1                      Fearless Platinum Edition      0.202448      0.575947   \n",
       "2                                          Lover      0.333743      0.658222   \n",
       "3                        Midnights (3am Edition)      0.413220      0.626650   \n",
       "4                           Red (Deluxe Edition)      0.148799      0.633364   \n",
       "5                     Speak Now (Deluxe Edition)      0.249275      0.556450   \n",
       "6   THE TORTURED POETS DEPARTMENT: THE ANTHOLOGY      0.580152      0.527903   \n",
       "7                                   Taylor Swift      0.182995      0.545267   \n",
       "8                      evermore (deluxe version)      0.794118      0.526824   \n",
       "9                      folklore (deluxe version)      0.717588      0.541941   \n",
       "10                                    reputation      0.138515      0.657933   \n",
       "\n",
       "      energy  instrumentalness  liveness   loudness  speechiness       tempo  \\\n",
       "0   0.624842          0.000704  0.203211  -7.924105     0.173453  127.033053   \n",
       "1   0.601053          0.000002  0.159826  -5.708211     0.031905  123.089263   \n",
       "2   0.545222          0.000733  0.115233  -8.013278     0.099117  119.972722   \n",
       "3   0.451150          0.018134  0.150235 -10.588050     0.092075  119.744950   \n",
       "4   0.600773          0.001802  0.126214  -7.380045     0.036577  110.296727   \n",
       "5   0.647900          0.000046  0.172500  -4.726250     0.034670  136.375600   \n",
       "6   0.460613          0.000214  0.150045  -9.381258     0.056729  122.102097   \n",
       "7   0.664267          0.000054  0.160773  -4.731667     0.032687  126.053800   \n",
       "8   0.494059          0.020617  0.113588  -9.781588     0.057906  120.707294   \n",
       "9   0.415824          0.000302  0.110465 -10.336059     0.039482  119.884412   \n",
       "10  0.582867          0.000044  0.152153  -7.672400     0.095120  127.540133   \n",
       "\n",
       "     valence  \n",
       "0   0.454211  \n",
       "1   0.380053  \n",
       "2   0.481444  \n",
       "3   0.282530  \n",
       "4   0.468191  \n",
       "5   0.416950  \n",
       "6   0.318355  \n",
       "7   0.426533  \n",
       "8   0.433529  \n",
       "9   0.361353  \n",
       "10  0.293400  "
      ]
     },
     "execution_count": 23,
     "metadata": {},
     "output_type": "execute_result"
    }
   ],
   "source": [
    "df_auxiliar"
   ]
  },
  {
   "cell_type": "code",
   "execution_count": 24,
   "metadata": {},
   "outputs": [],
   "source": [
    "melted_df = pd.melt(df_auxiliar, id_vars=[\"album\"], value_vars=['acousticness', 'danceability', 'energy', 'instrumentalness',\n",
    "       'liveness', 'loudness', 'speechiness', 'tempo', 'valence'], var_name=\"categoria\", value_name=\"promedio\")"
   ]
  },
  {
   "cell_type": "code",
   "execution_count": 25,
   "metadata": {},
   "outputs": [
    {
     "data": {
      "text/html": [
       "<div>\n",
       "<style scoped>\n",
       "    .dataframe tbody tr th:only-of-type {\n",
       "        vertical-align: middle;\n",
       "    }\n",
       "\n",
       "    .dataframe tbody tr th {\n",
       "        vertical-align: top;\n",
       "    }\n",
       "\n",
       "    .dataframe thead th {\n",
       "        text-align: right;\n",
       "    }\n",
       "</style>\n",
       "<table border=\"1\" class=\"dataframe\">\n",
       "  <thead>\n",
       "    <tr style=\"text-align: right;\">\n",
       "      <th></th>\n",
       "      <th>album</th>\n",
       "      <th>categoria</th>\n",
       "      <th>promedio</th>\n",
       "    </tr>\n",
       "  </thead>\n",
       "  <tbody>\n",
       "    <tr>\n",
       "      <th>0</th>\n",
       "      <td>1989 (Deluxe Edition)</td>\n",
       "      <td>acousticness</td>\n",
       "      <td>0.244620</td>\n",
       "    </tr>\n",
       "    <tr>\n",
       "      <th>1</th>\n",
       "      <td>Fearless Platinum Edition</td>\n",
       "      <td>acousticness</td>\n",
       "      <td>0.202448</td>\n",
       "    </tr>\n",
       "    <tr>\n",
       "      <th>2</th>\n",
       "      <td>Lover</td>\n",
       "      <td>acousticness</td>\n",
       "      <td>0.333743</td>\n",
       "    </tr>\n",
       "    <tr>\n",
       "      <th>3</th>\n",
       "      <td>Midnights (3am Edition)</td>\n",
       "      <td>acousticness</td>\n",
       "      <td>0.413220</td>\n",
       "    </tr>\n",
       "    <tr>\n",
       "      <th>4</th>\n",
       "      <td>Red (Deluxe Edition)</td>\n",
       "      <td>acousticness</td>\n",
       "      <td>0.148799</td>\n",
       "    </tr>\n",
       "    <tr>\n",
       "      <th>...</th>\n",
       "      <td>...</td>\n",
       "      <td>...</td>\n",
       "      <td>...</td>\n",
       "    </tr>\n",
       "    <tr>\n",
       "      <th>94</th>\n",
       "      <td>THE TORTURED POETS DEPARTMENT: THE ANTHOLOGY</td>\n",
       "      <td>valence</td>\n",
       "      <td>0.318355</td>\n",
       "    </tr>\n",
       "    <tr>\n",
       "      <th>95</th>\n",
       "      <td>Taylor Swift</td>\n",
       "      <td>valence</td>\n",
       "      <td>0.426533</td>\n",
       "    </tr>\n",
       "    <tr>\n",
       "      <th>96</th>\n",
       "      <td>evermore (deluxe version)</td>\n",
       "      <td>valence</td>\n",
       "      <td>0.433529</td>\n",
       "    </tr>\n",
       "    <tr>\n",
       "      <th>97</th>\n",
       "      <td>folklore (deluxe version)</td>\n",
       "      <td>valence</td>\n",
       "      <td>0.361353</td>\n",
       "    </tr>\n",
       "    <tr>\n",
       "      <th>98</th>\n",
       "      <td>reputation</td>\n",
       "      <td>valence</td>\n",
       "      <td>0.293400</td>\n",
       "    </tr>\n",
       "  </tbody>\n",
       "</table>\n",
       "<p>99 rows × 3 columns</p>\n",
       "</div>"
      ],
      "text/plain": [
       "                                           album     categoria  promedio\n",
       "0                          1989 (Deluxe Edition)  acousticness  0.244620\n",
       "1                      Fearless Platinum Edition  acousticness  0.202448\n",
       "2                                          Lover  acousticness  0.333743\n",
       "3                        Midnights (3am Edition)  acousticness  0.413220\n",
       "4                           Red (Deluxe Edition)  acousticness  0.148799\n",
       "..                                           ...           ...       ...\n",
       "94  THE TORTURED POETS DEPARTMENT: THE ANTHOLOGY       valence  0.318355\n",
       "95                                  Taylor Swift       valence  0.426533\n",
       "96                     evermore (deluxe version)       valence  0.433529\n",
       "97                     folklore (deluxe version)       valence  0.361353\n",
       "98                                    reputation       valence  0.293400\n",
       "\n",
       "[99 rows x 3 columns]"
      ]
     },
     "execution_count": 25,
     "metadata": {},
     "output_type": "execute_result"
    }
   ],
   "source": [
    "melted_df"
   ]
  },
  {
   "cell_type": "code",
   "execution_count": 11,
   "metadata": {},
   "outputs": [
    {
     "data": {
      "text/plain": [
       "array(['1989 (Deluxe Edition)', 'Fearless Platinum Edition', 'Lover',\n",
       "       'Midnights (3am Edition)', 'Red (Deluxe Edition)',\n",
       "       'Speak Now (Deluxe Edition)',\n",
       "       'THE TORTURED POETS DEPARTMENT: THE ANTHOLOGY', 'Taylor Swift',\n",
       "       'evermore (deluxe version)', 'folklore (deluxe version)',\n",
       "       'reputation'], dtype=object)"
      ]
     },
     "execution_count": 11,
     "metadata": {},
     "output_type": "execute_result"
    }
   ],
   "source": [
    "melted_df['album'].unique()"
   ]
  },
  {
   "cell_type": "code",
   "execution_count": 26,
   "metadata": {},
   "outputs": [],
   "source": [
    "nombres_albumes = {'1989 (Deluxe Edition)' : '1989',\n",
    "                   'Fearless Platinum Edition' : 'Fearless',\n",
    "                   'Midnights (3am Edition)' : 'Midnights',\n",
    "                   'Lover' : 'Lover',\n",
    "                   'Red (Deluxe Edition)' : 'Red',\n",
    "                   'Speak Now (Deluxe Edition)' : 'Speak Now',\n",
    "                   'THE TORTURED POETS DEPARTMENT: THE ANTHOLOGY' : 'The Tortured Poets Department',\n",
    "                   'Taylor Swift' : 'Taylor Swift',\n",
    "                   'evermore (deluxe version)' : 'Everore',\n",
    "                   'folklore (deluxe version)' : 'Folklore',\n",
    "                   'reputation' : 'Reputation'}\n",
    "\n",
    "nombres_categorias = {'acousticness' : 'acústico',\n",
    "                      'danceability' : 'danzabilidad',\n",
    "                      'energy' : 'energía',\n",
    "                      'instrumentalness' : 'instrumental',\n",
    "                      'liveness' : 'directo',\n",
    "                      'loudness' : 'volumen',\n",
    "                      'speechiness' : 'liricismo',\n",
    "                      'tempo' : 'tempo',\n",
    "                      'valence' : 'positividad'                      \n",
    "                      }\n",
    "\n",
    "#melted_df['album'] = melted_df['album'].map(nombres_albumes)\n",
    "#melted_df['categoria'] = melted_df['categoria'].map(nombres_categorias)\n",
    "\n",
    "melted_df['album'] = melted_df['album'].apply(lambda x: nombres_albumes.get(x, x))\n",
    "melted_df['categoria'] = melted_df['categoria'].apply(lambda x: nombres_categorias.get(x, x))\n",
    "\n"
   ]
  },
  {
   "cell_type": "code",
   "execution_count": 27,
   "metadata": {},
   "outputs": [
    {
     "data": {
      "text/html": [
       "<div>\n",
       "<style scoped>\n",
       "    .dataframe tbody tr th:only-of-type {\n",
       "        vertical-align: middle;\n",
       "    }\n",
       "\n",
       "    .dataframe tbody tr th {\n",
       "        vertical-align: top;\n",
       "    }\n",
       "\n",
       "    .dataframe thead th {\n",
       "        text-align: right;\n",
       "    }\n",
       "</style>\n",
       "<table border=\"1\" class=\"dataframe\">\n",
       "  <thead>\n",
       "    <tr style=\"text-align: right;\">\n",
       "      <th></th>\n",
       "      <th>album</th>\n",
       "      <th>categoria</th>\n",
       "      <th>promedio</th>\n",
       "    </tr>\n",
       "  </thead>\n",
       "  <tbody>\n",
       "    <tr>\n",
       "      <th>0</th>\n",
       "      <td>1989</td>\n",
       "      <td>acústico</td>\n",
       "      <td>0.244620</td>\n",
       "    </tr>\n",
       "    <tr>\n",
       "      <th>1</th>\n",
       "      <td>Fearless</td>\n",
       "      <td>acústico</td>\n",
       "      <td>0.202448</td>\n",
       "    </tr>\n",
       "    <tr>\n",
       "      <th>2</th>\n",
       "      <td>Lover</td>\n",
       "      <td>acústico</td>\n",
       "      <td>0.333743</td>\n",
       "    </tr>\n",
       "    <tr>\n",
       "      <th>3</th>\n",
       "      <td>Midnights</td>\n",
       "      <td>acústico</td>\n",
       "      <td>0.413220</td>\n",
       "    </tr>\n",
       "    <tr>\n",
       "      <th>4</th>\n",
       "      <td>Red</td>\n",
       "      <td>acústico</td>\n",
       "      <td>0.148799</td>\n",
       "    </tr>\n",
       "    <tr>\n",
       "      <th>...</th>\n",
       "      <td>...</td>\n",
       "      <td>...</td>\n",
       "      <td>...</td>\n",
       "    </tr>\n",
       "    <tr>\n",
       "      <th>94</th>\n",
       "      <td>The Tortured Poets Department</td>\n",
       "      <td>positividad</td>\n",
       "      <td>0.318355</td>\n",
       "    </tr>\n",
       "    <tr>\n",
       "      <th>95</th>\n",
       "      <td>Taylor Swift</td>\n",
       "      <td>positividad</td>\n",
       "      <td>0.426533</td>\n",
       "    </tr>\n",
       "    <tr>\n",
       "      <th>96</th>\n",
       "      <td>Everore</td>\n",
       "      <td>positividad</td>\n",
       "      <td>0.433529</td>\n",
       "    </tr>\n",
       "    <tr>\n",
       "      <th>97</th>\n",
       "      <td>Folklore</td>\n",
       "      <td>positividad</td>\n",
       "      <td>0.361353</td>\n",
       "    </tr>\n",
       "    <tr>\n",
       "      <th>98</th>\n",
       "      <td>Reputation</td>\n",
       "      <td>positividad</td>\n",
       "      <td>0.293400</td>\n",
       "    </tr>\n",
       "  </tbody>\n",
       "</table>\n",
       "<p>99 rows × 3 columns</p>\n",
       "</div>"
      ],
      "text/plain": [
       "                            album    categoria  promedio\n",
       "0                            1989     acústico  0.244620\n",
       "1                        Fearless     acústico  0.202448\n",
       "2                           Lover     acústico  0.333743\n",
       "3                       Midnights     acústico  0.413220\n",
       "4                             Red     acústico  0.148799\n",
       "..                            ...          ...       ...\n",
       "94  The Tortured Poets Department  positividad  0.318355\n",
       "95                   Taylor Swift  positividad  0.426533\n",
       "96                        Everore  positividad  0.433529\n",
       "97                       Folklore  positividad  0.361353\n",
       "98                     Reputation  positividad  0.293400\n",
       "\n",
       "[99 rows x 3 columns]"
      ]
     },
     "execution_count": 27,
     "metadata": {},
     "output_type": "execute_result"
    }
   ],
   "source": [
    "melted_df"
   ]
  },
  {
   "cell_type": "code",
   "execution_count": 28,
   "metadata": {},
   "outputs": [],
   "source": [
    "melted_df.to_csv('files/all_songs_audio_data_radar.csv', index = False)"
   ]
  }
 ],
 "metadata": {
  "kernelspec": {
   "display_name": "Python 3",
   "language": "python",
   "name": "python3"
  },
  "language_info": {
   "codemirror_mode": {
    "name": "ipython",
    "version": 3
   },
   "file_extension": ".py",
   "mimetype": "text/x-python",
   "name": "python",
   "nbconvert_exporter": "python",
   "pygments_lexer": "ipython3",
   "version": "3.9.13"
  }
 },
 "nbformat": 4,
 "nbformat_minor": 2
}
