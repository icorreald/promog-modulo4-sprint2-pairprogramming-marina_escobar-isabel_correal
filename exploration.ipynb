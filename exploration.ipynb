{
 "cells": [
  {
   "cell_type": "code",
   "execution_count": 1,
   "metadata": {},
   "outputs": [],
   "source": [
    "import pandas as pd\n",
    "import numpy as np\n",
    "\n",
    "pd.set_option('display.max_columns', None)"
   ]
  },
  {
   "cell_type": "code",
   "execution_count": 2,
   "metadata": {},
   "outputs": [],
   "source": [
    "df_lyrics2 = pd.read_csv('files/lyrics.csv')\n",
    "df_spotify = pd.read_csv('files/taylor_swift_spotify.csv', index_col=0)\n",
    "df_twitter = pd.read_csv('files/TaylorSwift13.csv')"
   ]
  },
  {
   "cell_type": "code",
   "execution_count": 3,
   "metadata": {},
   "outputs": [],
   "source": [
    "albumes = ['Red (Taylor’s Version)', \n",
    "           'Lover',\n",
    "           '1989 (Deluxe)',\n",
    "           'Midnights (3am Edition)',\n",
    "           'Taylor Swift',\n",
    "           'Speak Now (Deluxe)',\n",
    "           'Fearless (Taylor’s Version)',\n",
    "           'reputation',\n",
    "           'evermore (deluxe version)',\n",
    "           'folklore (deluxe version)'      \n",
    "           ]\n",
    "\n",
    "df_lyrics_filtrado = df_lyrics2[df_lyrics2['Album'].isin(albumes)]"
   ]
  },
  {
   "cell_type": "code",
   "execution_count": 4,
   "metadata": {},
   "outputs": [],
   "source": [
    "diccionario = {}\n",
    "\n",
    "for track in df_lyrics_filtrado['Song']:\n",
    "    \n",
    "    df_especific = df_lyrics_filtrado[df_lyrics_filtrado['Song'] == track]\n",
    "    cadena = \"  \".join(df_especific['Lyric'])\n",
    "    diccionario[track] = cadena"
   ]
  },
  {
   "cell_type": "code",
   "execution_count": 5,
   "metadata": {},
   "outputs": [],
   "source": [
    "df_lyrics_clean = df_lyrics_filtrado.drop_duplicates(subset = 'Song')"
   ]
  },
  {
   "cell_type": "code",
   "execution_count": 6,
   "metadata": {},
   "outputs": [],
   "source": [
    "lista_a_dropear = []\n",
    "\n",
    "for cancion in df_lyrics_clean['Song']:\n",
    "    \n",
    "    if '[From the Vault]' in cancion:\n",
    "        lista_a_dropear.append(cancion)"
   ]
  },
  {
   "cell_type": "code",
   "execution_count": 7,
   "metadata": {},
   "outputs": [],
   "source": [
    "df_lyrics_clean = df_lyrics_clean[~df_lyrics_clean['Song'].isin(lista_a_dropear)]"
   ]
  },
  {
   "cell_type": "code",
   "execution_count": 8,
   "metadata": {},
   "outputs": [],
   "source": [
    "df_lyrics_clean['Lyrics'] = df_lyrics_clean.apply(lambda x : diccionario[x['Song']], axis=1)"
   ]
  },
  {
   "cell_type": "code",
   "execution_count": 9,
   "metadata": {},
   "outputs": [],
   "source": [
    "df_lyrics_clean.drop(columns = ['Lyric', 'Previous Lyric', 'Next Lyric', 'Multiplicity'], inplace=True)"
   ]
  },
  {
   "cell_type": "code",
   "execution_count": 10,
   "metadata": {},
   "outputs": [],
   "source": [
    "df_lyrics_clean = df_lyrics_clean.reset_index().drop('index', axis=1)"
   ]
  },
  {
   "cell_type": "code",
   "execution_count": 11,
   "metadata": {},
   "outputs": [],
   "source": [
    "df_lyrics_clean.to_csv('files/taylor_full_lyrics.csv', index=False)"
   ]
  }
 ],
 "metadata": {
  "kernelspec": {
   "display_name": "Python 3",
   "language": "python",
   "name": "python3"
  },
  "language_info": {
   "codemirror_mode": {
    "name": "ipython",
    "version": 3
   },
   "file_extension": ".py",
   "mimetype": "text/x-python",
   "name": "python",
   "nbconvert_exporter": "python",
   "pygments_lexer": "ipython3",
   "version": "3.9.13"
  }
 },
 "nbformat": 4,
 "nbformat_minor": 2
}
