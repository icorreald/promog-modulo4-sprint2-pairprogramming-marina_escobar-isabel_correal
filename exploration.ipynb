{
 "cells": [
  {
   "cell_type": "code",
   "execution_count": 39,
   "metadata": {},
   "outputs": [],
   "source": [
    "import pandas as pd\n",
    "import numpy as np\n",
    "import re\n",
    "\n",
    "pd.set_option('display.max_columns', None)"
   ]
  },
  {
   "cell_type": "code",
   "execution_count": 40,
   "metadata": {},
   "outputs": [],
   "source": [
    "df_lyrics2 = pd.read_csv('files/lyrics.csv')\n",
    "df_last_album = pd.read_csv('files/lyrics_new_album.csv', index_col=0)\n"
   ]
  },
  {
   "cell_type": "code",
   "execution_count": 41,
   "metadata": {},
   "outputs": [],
   "source": [
    "df_genres = pd.read_csv('files/genres_to_songs.csv')"
   ]
  },
  {
   "cell_type": "code",
   "execution_count": 42,
   "metadata": {},
   "outputs": [],
   "source": [
    "df_last_album['lyrics'] = df_last_album['lyrics'].apply(lambda x : re.sub(r'\\[.*?\\]', '', x).strip().replace('\\n', '  '))\n"
   ]
  },
  {
   "cell_type": "code",
   "execution_count": 43,
   "metadata": {},
   "outputs": [],
   "source": [
    "df_last_album['Album'] = 'The Tortured Poets Department'"
   ]
  },
  {
   "cell_type": "code",
   "execution_count": 44,
   "metadata": {},
   "outputs": [],
   "source": [
    "df_last_album = df_last_album.reindex(columns = ['song', 'Album', 'lyrics'])"
   ]
  },
  {
   "cell_type": "code",
   "execution_count": 45,
   "metadata": {},
   "outputs": [],
   "source": [
    "df_last_album.columns = ['Song', 'Album', 'Lyrics']"
   ]
  },
  {
   "cell_type": "code",
   "execution_count": 46,
   "metadata": {},
   "outputs": [
    {
     "data": {
      "text/plain": [
       "array(['Red (Taylor’s Version)', 'Lover', '1989 (Deluxe)',\n",
       "       'Midnights (3am Edition)', 'Taylor Swift', 'Speak Now',\n",
       "       'Cats: Highlights From the Motion Picture Soundtrack',\n",
       "       'Fearless (Taylor’s Version)', 'reputation', 'evermore',\n",
       "       'The Taylor Swift Holiday Collection - EP',\n",
       "       'Women in Music Pt. III (Expanded Edition)',\n",
       "       'Two Lanes of Freedom (Accelerated Deluxe)',\n",
       "       'Midnights (Target Exclusive)',\n",
       "       'Fifty Shades Darker (Original Motion Picture Soundtrack)',\n",
       "       'Speak Now (Deluxe)', 'Taylor Swift (Best Buy Exclusive)', nan,\n",
       "       'How Long Do You Think It’s Gonna Last?',\n",
       "       'The Hunger Games: Songs from District 12 and Beyond',\n",
       "       'One Chance (Original Motion Picture Soundtrack)',\n",
       "       '1989 (Taylor’s Version)', 'Love Drunk',\n",
       "       'Hannah Montana: The Movie',\n",
       "       'Carolina (From The Motion Picture “Where The Crawdads Sing”) - Single',\n",
       "       'Christmas Tree Farm', 'folklore', 'folklore (deluxe version)',\n",
       "       'evermore (deluxe version)'], dtype=object)"
      ]
     },
     "execution_count": 46,
     "metadata": {},
     "output_type": "execute_result"
    }
   ],
   "source": [
    "df_lyrics2['Album'].unique()"
   ]
  },
  {
   "cell_type": "code",
   "execution_count": 47,
   "metadata": {},
   "outputs": [],
   "source": [
    "albumes = ['Red (Taylor’s Version)', \n",
    "           'Lover',\n",
    "           '1989 (Deluxe)',\n",
    "           'Midnights (3am Edition)',\n",
    "           'Taylor Swift',\n",
    "           'Speak Now (Deluxe)',\n",
    "           'Fearless (Taylor’s Version)',\n",
    "           'reputation',\n",
    "           'evermore (deluxe version)',\n",
    "           'folklore (deluxe version)',\n",
    "           'folklore',\n",
    "           'evermore',\n",
    "           'Speak Now',\n",
    "           '1989 (Taylor’s Version)']\n",
    "\n",
    "df_lyrics_filtrado = df_lyrics2[df_lyrics2['Album'].isin(albumes)]"
   ]
  },
  {
   "cell_type": "code",
   "execution_count": 48,
   "metadata": {},
   "outputs": [],
   "source": [
    "diccionario = {}\n",
    "\n",
    "for track in df_lyrics_filtrado['Song']:\n",
    "    \n",
    "    df_especific = df_lyrics_filtrado[df_lyrics_filtrado['Song'] == track]\n",
    "    cadena = \"  \".join(df_especific['Lyric'])\n",
    "    diccionario[track] = cadena"
   ]
  },
  {
   "cell_type": "code",
   "execution_count": 49,
   "metadata": {},
   "outputs": [],
   "source": [
    "df_lyrics_clean = df_lyrics_filtrado.drop_duplicates(subset = 'Song')"
   ]
  },
  {
   "cell_type": "code",
   "execution_count": 50,
   "metadata": {},
   "outputs": [],
   "source": [
    "lista_a_dropear = []\n",
    "\n",
    "for cancion in df_lyrics_clean['Song']:\n",
    "    \n",
    "    if '[From the Vault]' in cancion:\n",
    "        lista_a_dropear.append(cancion)"
   ]
  },
  {
   "cell_type": "code",
   "execution_count": 51,
   "metadata": {},
   "outputs": [],
   "source": [
    "df_lyrics_clean = df_lyrics_clean[~df_lyrics_clean['Song'].isin(lista_a_dropear)]"
   ]
  },
  {
   "cell_type": "code",
   "execution_count": 52,
   "metadata": {},
   "outputs": [],
   "source": [
    "df_lyrics_clean['Lyrics'] = df_lyrics_clean.apply(lambda x : diccionario[x['Song']], axis=1)"
   ]
  },
  {
   "cell_type": "code",
   "execution_count": 53,
   "metadata": {},
   "outputs": [],
   "source": [
    "df_lyrics_clean.drop(columns = ['Lyric', 'Previous Lyric', 'Next Lyric', 'Multiplicity'], inplace=True)"
   ]
  },
  {
   "cell_type": "code",
   "execution_count": 54,
   "metadata": {},
   "outputs": [],
   "source": [
    "df_lyrics_clean = df_lyrics_clean.reset_index().drop('index', axis=1)"
   ]
  },
  {
   "cell_type": "code",
   "execution_count": 55,
   "metadata": {},
   "outputs": [],
   "source": [
    "df_lyrics = pd.concat([df_lyrics_clean, df_last_album], ignore_index=True)"
   ]
  },
  {
   "cell_type": "code",
   "execution_count": 56,
   "metadata": {},
   "outputs": [],
   "source": [
    "df_lyrics['Song'] = df_lyrics['Song'].apply(lambda x : x.replace(' (Taylor’s Version)', ''))\n",
    "df_lyrics['Song'] = df_lyrics['Song'].apply(lambda x : x.replace('(Taylor’s Version)', ''))\n",
    "df_lyrics['Album'] = df_lyrics['Album'].apply(lambda x : x.replace(' (Taylor’s Version)', ''))\n",
    "df_lyrics['Album'] = df_lyrics['Album'].apply(lambda x : x.replace(' (Deluxe)', ''))\n",
    "df_lyrics['Song'] = df_lyrics['Song'].apply(lambda x : x.replace(' (Pop Version)', ''))\n",
    "df_lyrics['Song'] = df_lyrics['Song'].apply(lambda x : x.replace('(Radio Edit)', ''))"
   ]
  },
  {
   "cell_type": "code",
   "execution_count": 57,
   "metadata": {},
   "outputs": [],
   "source": [
    "diccionario_cambios = {'...Ready for It?' : '…Ready for It?',\n",
    "                       'So It Goes...' : 'So It Goes…',\n",
    "                       '’tis the damn season' : '‘tis the damn season',\n",
    "                       'l​ong story short' : 'long story short',\n",
    "                       \"Who's Afraid of Little Old Me?\" : 'Who’s Afraid of Little Old Me?',\n",
    "                       'You’re Not Sorry' : \"You're Not Sorry\",\n",
    "                       'You’re On Your Own, Kid' : \"You're on Your Own, Kid\",\n",
    "                       'Would’ve, Could’ve, Should’ve' : \"Would've, Could've, Should've\"}\n",
    "\n",
    "df_lyrics['Song'] = df_lyrics['Song'].map(diccionario_cambios).fillna(df_lyrics['Song'])"
   ]
  },
  {
   "cell_type": "code",
   "execution_count": 58,
   "metadata": {},
   "outputs": [],
   "source": [
    "words = ['In ', 'On ', 'At ', 'By ', 'For ', 'With ', 'From ', 'To ', 'Into ', 'Onto ', 'Of ', 'About ', 'Above ', 'Below ', 'Under ', 'Over ', 'Through ', 'Between ', 'Among ', 'Within ', 'The ', 'But ', 'A ', 'Oh ', 'Oh,', 'It ', 'If ', 'How ', 'Where ', 'When ', 'What ', 'Who ', 'Why ', 'But ', 'Because ', 'An ', 'And ', 'May ']\n",
    "pattern = r\"'[^ ]*\"\n",
    "df_lyrics['Lyrics'] = df_lyrics['Lyrics'].apply(lambda x : re.sub(pattern, '', x))\n",
    "\n",
    "for word in words:\n",
    "    df_lyrics['Lyrics'] = df_lyrics['Lyrics'].str.replace(word , ' ')\n",
    "    df_lyrics['Lyrics'] = df_lyrics['Lyrics'].str.replace(f' {word.lower()}' , ' ')\n"
   ]
  },
  {
   "cell_type": "code",
   "execution_count": 59,
   "metadata": {},
   "outputs": [],
   "source": [
    "df_lyrics['song'] = df_lyrics['Song'].str.lower().str.strip()\n",
    "df_genres['song'] = df_genres['song'].str.lower().str.strip()"
   ]
  },
  {
   "cell_type": "code",
   "execution_count": 60,
   "metadata": {},
   "outputs": [],
   "source": [
    "df_genres = df_genres.merge(df_lyrics, left_on='song', right_on='song', how='left')"
   ]
  },
  {
   "cell_type": "code",
   "execution_count": 61,
   "metadata": {},
   "outputs": [
    {
     "data": {
      "text/plain": [
       "array([], dtype=object)"
      ]
     },
     "execution_count": 61,
     "metadata": {},
     "output_type": "execute_result"
    }
   ],
   "source": [
    "df_genres[df_genres['Song'].isnull()]['song'].unique()"
   ]
  },
  {
   "cell_type": "code",
   "execution_count": 62,
   "metadata": {},
   "outputs": [],
   "source": [
    "df_genres.drop(['song', 'album'], axis=1, inplace=True)"
   ]
  },
  {
   "cell_type": "code",
   "execution_count": 63,
   "metadata": {},
   "outputs": [],
   "source": [
    "df_genres = df_genres.reindex(columns = ['Album', 'Song', 'genre', 'Lyrics'])"
   ]
  },
  {
   "cell_type": "code",
   "execution_count": 64,
   "metadata": {},
   "outputs": [],
   "source": [
    "df_genres = df_genres.sort_values('Song', ascending=True)"
   ]
  },
  {
   "cell_type": "code",
   "execution_count": 65,
   "metadata": {},
   "outputs": [
    {
     "data": {
      "text/html": [
       "<div>\n",
       "<style scoped>\n",
       "    .dataframe tbody tr th:only-of-type {\n",
       "        vertical-align: middle;\n",
       "    }\n",
       "\n",
       "    .dataframe tbody tr th {\n",
       "        vertical-align: top;\n",
       "    }\n",
       "\n",
       "    .dataframe thead th {\n",
       "        text-align: right;\n",
       "    }\n",
       "</style>\n",
       "<table border=\"1\" class=\"dataframe\">\n",
       "  <thead>\n",
       "    <tr style=\"text-align: right;\">\n",
       "      <th></th>\n",
       "      <th>Album</th>\n",
       "      <th>Song</th>\n",
       "      <th>genre</th>\n",
       "      <th>Lyrics</th>\n",
       "    </tr>\n",
       "  </thead>\n",
       "  <tbody>\n",
       "    <tr>\n",
       "      <th>68</th>\n",
       "      <td>Red</td>\n",
       "      <td>22</td>\n",
       "      <td>Fiestas y Tradiciones</td>\n",
       "      <td>feels like perfect night   dress up like hips...</td>\n",
       "    </tr>\n",
       "    <tr>\n",
       "      <th>57</th>\n",
       "      <td>Red</td>\n",
       "      <td>22</td>\n",
       "      <td>Música disco</td>\n",
       "      <td>feels like perfect night   dress up like hips...</td>\n",
       "    </tr>\n",
       "    <tr>\n",
       "      <th>74</th>\n",
       "      <td>Red</td>\n",
       "      <td>22</td>\n",
       "      <td>Dance pop</td>\n",
       "      <td>feels like perfect night   dress up like hips...</td>\n",
       "    </tr>\n",
       "    <tr>\n",
       "      <th>75</th>\n",
       "      <td>Red</td>\n",
       "      <td>22</td>\n",
       "      <td>Bubblegum pop</td>\n",
       "      <td>feels like perfect night   dress up like hips...</td>\n",
       "    </tr>\n",
       "    <tr>\n",
       "      <th>51</th>\n",
       "      <td>Red</td>\n",
       "      <td>22</td>\n",
       "      <td>Pop</td>\n",
       "      <td>feels like perfect night   dress up like hips...</td>\n",
       "    </tr>\n",
       "    <tr>\n",
       "      <th>...</th>\n",
       "      <td>...</td>\n",
       "      <td>...</td>\n",
       "      <td>...</td>\n",
       "      <td>...</td>\n",
       "    </tr>\n",
       "    <tr>\n",
       "      <th>101</th>\n",
       "      <td>reputation</td>\n",
       "      <td>…Ready for It?</td>\n",
       "      <td>Pop</td>\n",
       "      <td>Knew he was killer first time that I saw him  ...</td>\n",
       "    </tr>\n",
       "    <tr>\n",
       "      <th>107</th>\n",
       "      <td>reputation</td>\n",
       "      <td>…Ready for It?</td>\n",
       "      <td>Música infantil</td>\n",
       "      <td>Knew he was killer first time that I saw him  ...</td>\n",
       "    </tr>\n",
       "    <tr>\n",
       "      <th>110</th>\n",
       "      <td>reputation</td>\n",
       "      <td>…Ready for It?</td>\n",
       "      <td>Electropop</td>\n",
       "      <td>Knew he was killer first time that I saw him  ...</td>\n",
       "    </tr>\n",
       "    <tr>\n",
       "      <th>125</th>\n",
       "      <td>reputation</td>\n",
       "      <td>…Ready for It?</td>\n",
       "      <td>Música industrial</td>\n",
       "      <td>Knew he was killer first time that I saw him  ...</td>\n",
       "    </tr>\n",
       "    <tr>\n",
       "      <th>114</th>\n",
       "      <td>reputation</td>\n",
       "      <td>…Ready for It?</td>\n",
       "      <td>R&amp;BSoul</td>\n",
       "      <td>Knew he was killer first time that I saw him  ...</td>\n",
       "    </tr>\n",
       "  </tbody>\n",
       "</table>\n",
       "<p>270 rows × 4 columns</p>\n",
       "</div>"
      ],
      "text/plain": [
       "          Album            Song                  genre  \\\n",
       "68          Red              22  Fiestas y Tradiciones   \n",
       "57          Red              22           Música disco   \n",
       "74          Red              22              Dance pop   \n",
       "75          Red              22          Bubblegum pop   \n",
       "51          Red              22                    Pop   \n",
       "..          ...             ...                    ...   \n",
       "101  reputation  …Ready for It?                    Pop   \n",
       "107  reputation  …Ready for It?        Música infantil   \n",
       "110  reputation  …Ready for It?             Electropop   \n",
       "125  reputation  …Ready for It?      Música industrial   \n",
       "114  reputation  …Ready for It?                R&BSoul   \n",
       "\n",
       "                                                Lyrics  \n",
       "68    feels like perfect night   dress up like hips...  \n",
       "57    feels like perfect night   dress up like hips...  \n",
       "74    feels like perfect night   dress up like hips...  \n",
       "75    feels like perfect night   dress up like hips...  \n",
       "51    feels like perfect night   dress up like hips...  \n",
       "..                                                 ...  \n",
       "101  Knew he was killer first time that I saw him  ...  \n",
       "107  Knew he was killer first time that I saw him  ...  \n",
       "110  Knew he was killer first time that I saw him  ...  \n",
       "125  Knew he was killer first time that I saw him  ...  \n",
       "114  Knew he was killer first time that I saw him  ...  \n",
       "\n",
       "[270 rows x 4 columns]"
      ]
     },
     "execution_count": 65,
     "metadata": {},
     "output_type": "execute_result"
    }
   ],
   "source": [
    "df_genres"
   ]
  },
  {
   "cell_type": "code",
   "execution_count": 77,
   "metadata": {},
   "outputs": [],
   "source": [
    "#df_genres.to_csv('files/taylor_full_lyrics_w_genre.csv', index=False)"
   ]
  },
  {
   "cell_type": "markdown",
   "metadata": {},
   "source": [
    "## Limpieza DF Twitter"
   ]
  },
  {
   "cell_type": "code",
   "execution_count": 67,
   "metadata": {},
   "outputs": [],
   "source": [
    "df_tuits = pd.read_csv('files/TaylorSwift13.csv')"
   ]
  },
  {
   "cell_type": "code",
   "execution_count": 68,
   "metadata": {},
   "outputs": [],
   "source": [
    "df_tuits.drop('created_at', axis=1, inplace=True)"
   ]
  },
  {
   "cell_type": "code",
   "execution_count": 69,
   "metadata": {},
   "outputs": [],
   "source": [
    "df_tuits['date'] = df_tuits['date'].apply(lambda x : x.replace('+00:00', ''))"
   ]
  },
  {
   "cell_type": "code",
   "execution_count": 70,
   "metadata": {},
   "outputs": [],
   "source": [
    "df_tuits['media'] = df_tuits['media'].apply(lambda x : 1 if isinstance(x, str) else 0)\n",
    "df_tuits['outlinks'] = df_tuits['outlinks'].apply(lambda x : 0 if x == '[]' else 1)\n",
    "df_tuits['quotedTweet'] = df_tuits['quotedTweet'].apply(lambda x : 1 if isinstance(x, str) else 0)\n",
    "df_tuits['retweetedTweet'] = df_tuits['retweetedTweet'].apply(lambda x : 1 if isinstance(x, str) else 0)\n",
    "\n",
    "df_tuits['content'] = df_tuits['content'].apply(lambda x : x.replace('\\n', ' '))"
   ]
  },
  {
   "cell_type": "code",
   "execution_count": 71,
   "metadata": {},
   "outputs": [],
   "source": [
    "df_tuits['users'] = df_tuits.apply(lambda x : re.findall(r'@\\S+', x['content']), axis=1)"
   ]
  },
  {
   "cell_type": "code",
   "execution_count": 72,
   "metadata": {},
   "outputs": [],
   "source": [
    "df_citados = df_tuits[['content', 'date', 'users']]"
   ]
  },
  {
   "cell_type": "code",
   "execution_count": 73,
   "metadata": {},
   "outputs": [],
   "source": [
    "df_tuits.drop('users', axis=1, inplace=True)"
   ]
  },
  {
   "cell_type": "code",
   "execution_count": 74,
   "metadata": {},
   "outputs": [],
   "source": [
    "df_citados = df_citados.explode('users')"
   ]
  },
  {
   "cell_type": "code",
   "execution_count": 75,
   "metadata": {},
   "outputs": [],
   "source": [
    "df_citados.dropna(subset='users', inplace = True)"
   ]
  },
  {
   "cell_type": "code",
   "execution_count": 76,
   "metadata": {},
   "outputs": [],
   "source": [
    "#df_tuits.to_csv('files/taylor_tuits_limpio.csv', index=False)\n",
    "#df_citados.to_csv('files/taylor_tuits_citados.csv', index=False)"
   ]
  }
 ],
 "metadata": {
  "kernelspec": {
   "display_name": "Python 3",
   "language": "python",
   "name": "python3"
  },
  "language_info": {
   "codemirror_mode": {
    "name": "ipython",
    "version": 3
   },
   "file_extension": ".py",
   "mimetype": "text/x-python",
   "name": "python",
   "nbconvert_exporter": "python",
   "pygments_lexer": "ipython3",
   "version": "3.9.13"
  }
 },
 "nbformat": 4,
 "nbformat_minor": 2
}
