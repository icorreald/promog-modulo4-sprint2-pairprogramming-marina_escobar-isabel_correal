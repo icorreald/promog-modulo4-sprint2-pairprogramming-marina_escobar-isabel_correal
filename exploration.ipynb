{
 "cells": [
  {
   "cell_type": "code",
   "execution_count": 96,
   "metadata": {},
   "outputs": [],
   "source": [
    "import pandas as pd\n",
    "import numpy as np\n",
    "import re\n",
    "\n",
    "pd.set_option('display.max_columns', None)"
   ]
  },
  {
   "cell_type": "code",
   "execution_count": 97,
   "metadata": {},
   "outputs": [],
   "source": [
    "df_lyrics2 = pd.read_csv('files/lyrics.csv')\n",
    "df_last_album = pd.read_csv('files/lyrics_new_album.csv', index_col=0)"
   ]
  },
  {
   "cell_type": "code",
   "execution_count": 98,
   "metadata": {},
   "outputs": [],
   "source": [
    "df_last_album['lyrics'] = df_last_album['lyrics'].apply(lambda x : re.sub(r'\\[.*?\\]', '', x).strip().replace('\\n', '  '))\n"
   ]
  },
  {
   "cell_type": "code",
   "execution_count": 99,
   "metadata": {},
   "outputs": [],
   "source": [
    "df_last_album['Album'] = 'The Tortured Poets Department'"
   ]
  },
  {
   "cell_type": "code",
   "execution_count": 100,
   "metadata": {},
   "outputs": [],
   "source": [
    "df_last_album = df_last_album.reindex(columns = ['song', 'Album', 'lyrics'])"
   ]
  },
  {
   "cell_type": "code",
   "execution_count": 101,
   "metadata": {},
   "outputs": [],
   "source": [
    "df_last_album.columns = ['Song', 'Album', 'Lyrics']"
   ]
  },
  {
   "cell_type": "code",
   "execution_count": 102,
   "metadata": {},
   "outputs": [],
   "source": [
    "albumes = ['Red (Taylor’s Version)', \n",
    "           'Lover',\n",
    "           '1989 (Deluxe)',\n",
    "           'Midnights (3am Edition)',\n",
    "           'Taylor Swift',\n",
    "           'Speak Now (Deluxe)',\n",
    "           'Fearless (Taylor’s Version)',\n",
    "           'reputation',\n",
    "           'evermore (deluxe version)',\n",
    "           'folklore (deluxe version)'      \n",
    "           ]\n",
    "\n",
    "df_lyrics_filtrado = df_lyrics2[df_lyrics2['Album'].isin(albumes)]"
   ]
  },
  {
   "cell_type": "code",
   "execution_count": 103,
   "metadata": {},
   "outputs": [],
   "source": [
    "diccionario = {}\n",
    "\n",
    "for track in df_lyrics_filtrado['Song']:\n",
    "    \n",
    "    df_especific = df_lyrics_filtrado[df_lyrics_filtrado['Song'] == track]\n",
    "    cadena = \"  \".join(df_especific['Lyric'])\n",
    "    diccionario[track] = cadena"
   ]
  },
  {
   "cell_type": "code",
   "execution_count": 104,
   "metadata": {},
   "outputs": [],
   "source": [
    "df_lyrics_clean = df_lyrics_filtrado.drop_duplicates(subset = 'Song')"
   ]
  },
  {
   "cell_type": "code",
   "execution_count": 105,
   "metadata": {},
   "outputs": [],
   "source": [
    "lista_a_dropear = []\n",
    "\n",
    "for cancion in df_lyrics_clean['Song']:\n",
    "    \n",
    "    if '[From the Vault]' in cancion:\n",
    "        lista_a_dropear.append(cancion)"
   ]
  },
  {
   "cell_type": "code",
   "execution_count": 106,
   "metadata": {},
   "outputs": [],
   "source": [
    "df_lyrics_clean = df_lyrics_clean[~df_lyrics_clean['Song'].isin(lista_a_dropear)]"
   ]
  },
  {
   "cell_type": "code",
   "execution_count": 107,
   "metadata": {},
   "outputs": [],
   "source": [
    "df_lyrics_clean['Lyrics'] = df_lyrics_clean.apply(lambda x : diccionario[x['Song']], axis=1)"
   ]
  },
  {
   "cell_type": "code",
   "execution_count": 108,
   "metadata": {},
   "outputs": [],
   "source": [
    "df_lyrics_clean.drop(columns = ['Lyric', 'Previous Lyric', 'Next Lyric', 'Multiplicity'], inplace=True)"
   ]
  },
  {
   "cell_type": "code",
   "execution_count": 109,
   "metadata": {},
   "outputs": [],
   "source": [
    "df_lyrics_clean = df_lyrics_clean.reset_index().drop('index', axis=1)"
   ]
  },
  {
   "cell_type": "code",
   "execution_count": 110,
   "metadata": {},
   "outputs": [],
   "source": [
    "df_lyrics = pd.concat([df_lyrics_clean, df_last_album], ignore_index=True)"
   ]
  },
  {
   "cell_type": "code",
   "execution_count": 111,
   "metadata": {},
   "outputs": [],
   "source": [
    "words = ['In ', 'On ', 'At ', 'By ', 'For ', 'With ', 'From ', 'To ', 'Into ', 'Onto ', 'Of ', 'About ', 'Above ', 'Below ', 'Under ', 'Over ', 'Through ', 'Between ', 'Among ', 'Within ', 'The ', 'But ', 'A ', 'Oh ']\n",
    "pattern = r\"'[^ ]*\"\n",
    "df_lyrics['Lyrics'] = df_lyrics['Lyrics'].apply(lambda x : re.sub(pattern, '', x))\n",
    "\n",
    "for word in words:\n",
    "    df_lyrics['Lyrics'] = df_lyrics['Lyrics'].str.replace(word , ' ')\n",
    "    df_lyrics['Lyrics'] = df_lyrics['Lyrics'].str.replace(f' {word.lower()}' , ' ')\n"
   ]
  },
  {
   "cell_type": "code",
   "execution_count": 112,
   "metadata": {},
   "outputs": [
    {
     "data": {
      "text/html": [
       "<div>\n",
       "<style scoped>\n",
       "    .dataframe tbody tr th:only-of-type {\n",
       "        vertical-align: middle;\n",
       "    }\n",
       "\n",
       "    .dataframe tbody tr th {\n",
       "        vertical-align: top;\n",
       "    }\n",
       "\n",
       "    .dataframe thead th {\n",
       "        text-align: right;\n",
       "    }\n",
       "</style>\n",
       "<table border=\"1\" class=\"dataframe\">\n",
       "  <thead>\n",
       "    <tr style=\"text-align: right;\">\n",
       "      <th></th>\n",
       "      <th>Song</th>\n",
       "      <th>Album</th>\n",
       "      <th>Lyrics</th>\n",
       "    </tr>\n",
       "  </thead>\n",
       "  <tbody>\n",
       "    <tr>\n",
       "      <th>0</th>\n",
       "      <td>22 (Taylor’s Version)</td>\n",
       "      <td>Red (Taylor’s Version)</td>\n",
       "      <td>It feels like perfect night   dress up like hi...</td>\n",
       "    </tr>\n",
       "    <tr>\n",
       "      <th>1</th>\n",
       "      <td>All Too Well (Taylor’s Version)</td>\n",
       "      <td>Red (Taylor’s Version)</td>\n",
       "      <td>I walked door you, air was cold   something  i...</td>\n",
       "    </tr>\n",
       "    <tr>\n",
       "      <th>2</th>\n",
       "      <td>Begin Again (Taylor’s Version)</td>\n",
       "      <td>Red (Taylor’s Version)</td>\n",
       "      <td>Took deep breath mirror  He didn like it when ...</td>\n",
       "    </tr>\n",
       "    <tr>\n",
       "      <th>3</th>\n",
       "      <td>Come Back...Be Here (Taylor’s Version)</td>\n",
       "      <td>Red (Taylor’s Version)</td>\n",
       "      <td>You said it simple way  4 AM, second day  How ...</td>\n",
       "    </tr>\n",
       "    <tr>\n",
       "      <th>4</th>\n",
       "      <td>Everything Has Changed (Taylor’s Version)</td>\n",
       "      <td>Red (Taylor’s Version)</td>\n",
       "      <td>(You good go?)  All I knew this morning when I...</td>\n",
       "    </tr>\n",
       "    <tr>\n",
       "      <th>...</th>\n",
       "      <td>...</td>\n",
       "      <td>...</td>\n",
       "      <td>...</td>\n",
       "    </tr>\n",
       "    <tr>\n",
       "      <th>152</th>\n",
       "      <td>Cassandra</td>\n",
       "      <td>The Tortured Poets Department</td>\n",
       "      <td>I was my new house placing daydreams    Patchi...</td>\n",
       "    </tr>\n",
       "    <tr>\n",
       "      <th>153</th>\n",
       "      <td>Peter</td>\n",
       "      <td>The Tortured Poets Department</td>\n",
       "      <td>Forgive me, Peter    My lost fearless leader  ...</td>\n",
       "    </tr>\n",
       "    <tr>\n",
       "      <th>154</th>\n",
       "      <td>The Bolter</td>\n",
       "      <td>The Tortured Poets Department</td>\n",
       "      <td>all accounts, she almost drowned  When she wa...</td>\n",
       "    </tr>\n",
       "    <tr>\n",
       "      <th>155</th>\n",
       "      <td>Robin</td>\n",
       "      <td>The Tortured Poets Department</td>\n",
       "      <td>Long may you reign    You an animal, you are b...</td>\n",
       "    </tr>\n",
       "    <tr>\n",
       "      <th>156</th>\n",
       "      <td>The Manuscript</td>\n",
       "      <td>The Tortured Poets Department</td>\n",
       "      <td>Now and then she rereads manuscript   entire t...</td>\n",
       "    </tr>\n",
       "  </tbody>\n",
       "</table>\n",
       "<p>157 rows × 3 columns</p>\n",
       "</div>"
      ],
      "text/plain": [
       "                                          Song                          Album  \\\n",
       "0                        22 (Taylor’s Version)         Red (Taylor’s Version)   \n",
       "1              All Too Well (Taylor’s Version)         Red (Taylor’s Version)   \n",
       "2               Begin Again (Taylor’s Version)         Red (Taylor’s Version)   \n",
       "3       Come Back...Be Here (Taylor’s Version)         Red (Taylor’s Version)   \n",
       "4    Everything Has Changed (Taylor’s Version)         Red (Taylor’s Version)   \n",
       "..                                         ...                            ...   \n",
       "152                                  Cassandra  The Tortured Poets Department   \n",
       "153                                      Peter  The Tortured Poets Department   \n",
       "154                                 The Bolter  The Tortured Poets Department   \n",
       "155                                      Robin  The Tortured Poets Department   \n",
       "156                             The Manuscript  The Tortured Poets Department   \n",
       "\n",
       "                                                Lyrics  \n",
       "0    It feels like perfect night   dress up like hi...  \n",
       "1    I walked door you, air was cold   something  i...  \n",
       "2    Took deep breath mirror  He didn like it when ...  \n",
       "3    You said it simple way  4 AM, second day  How ...  \n",
       "4    (You good go?)  All I knew this morning when I...  \n",
       "..                                                 ...  \n",
       "152  I was my new house placing daydreams    Patchi...  \n",
       "153  Forgive me, Peter    My lost fearless leader  ...  \n",
       "154   all accounts, she almost drowned  When she wa...  \n",
       "155  Long may you reign    You an animal, you are b...  \n",
       "156  Now and then she rereads manuscript   entire t...  \n",
       "\n",
       "[157 rows x 3 columns]"
      ]
     },
     "execution_count": 112,
     "metadata": {},
     "output_type": "execute_result"
    }
   ],
   "source": [
    "df_lyrics"
   ]
  },
  {
   "cell_type": "code",
   "execution_count": 113,
   "metadata": {},
   "outputs": [],
   "source": [
    "df_lyrics.to_csv('files/taylor_full_lyrics.csv', index=False)"
   ]
  }
 ],
 "metadata": {
  "kernelspec": {
   "display_name": "Python 3",
   "language": "python",
   "name": "python3"
  },
  "language_info": {
   "codemirror_mode": {
    "name": "ipython",
    "version": 3
   },
   "file_extension": ".py",
   "mimetype": "text/x-python",
   "name": "python",
   "nbconvert_exporter": "python",
   "pygments_lexer": "ipython3",
   "version": "3.9.13"
  }
 },
 "nbformat": 4,
 "nbformat_minor": 2
}
