{
 "cells": [
  {
   "cell_type": "code",
   "execution_count": 112,
   "metadata": {},
   "outputs": [],
   "source": [
    "import pandas as pd\n",
    "import numpy as np\n",
    "import re\n",
    "\n",
    "pd.set_option('display.max_columns', None)"
   ]
  },
  {
   "cell_type": "code",
   "execution_count": 113,
   "metadata": {},
   "outputs": [],
   "source": [
    "df_lyrics2 = pd.read_csv('files/lyrics.csv')\n",
    "df_last_album = pd.read_csv('files/lyrics_new_album.csv', index_col=0)\n"
   ]
  },
  {
   "cell_type": "code",
   "execution_count": 114,
   "metadata": {},
   "outputs": [],
   "source": [
    "df_genres = pd.read_csv('genero_por_canciones.csv')"
   ]
  },
  {
   "cell_type": "code",
   "execution_count": 115,
   "metadata": {},
   "outputs": [],
   "source": [
    "df_last_album['lyrics'] = df_last_album['lyrics'].apply(lambda x : re.sub(r'\\[.*?\\]', '', x).strip().replace('\\n', '  '))\n"
   ]
  },
  {
   "cell_type": "code",
   "execution_count": 116,
   "metadata": {},
   "outputs": [],
   "source": [
    "df_last_album['Album'] = 'The Tortured Poets Department'"
   ]
  },
  {
   "cell_type": "code",
   "execution_count": 117,
   "metadata": {},
   "outputs": [],
   "source": [
    "df_last_album = df_last_album.reindex(columns = ['song', 'Album', 'lyrics'])"
   ]
  },
  {
   "cell_type": "code",
   "execution_count": 118,
   "metadata": {},
   "outputs": [],
   "source": [
    "df_last_album.columns = ['Song', 'Album', 'Lyrics']"
   ]
  },
  {
   "cell_type": "code",
   "execution_count": 119,
   "metadata": {},
   "outputs": [],
   "source": [
    "albumes = ['Red (Taylor’s Version)', \n",
    "           'Lover',\n",
    "           '1989 (Deluxe)',\n",
    "           'Midnights (3am Edition)',\n",
    "           'Taylor Swift',\n",
    "           'Speak Now (Deluxe)',\n",
    "           'Fearless (Taylor’s Version)',\n",
    "           'reputation',\n",
    "           'evermore (deluxe version)',\n",
    "           'folklore (deluxe version)'      \n",
    "           ]\n",
    "\n",
    "df_lyrics_filtrado = df_lyrics2[df_lyrics2['Album'].isin(albumes)]"
   ]
  },
  {
   "cell_type": "code",
   "execution_count": 120,
   "metadata": {},
   "outputs": [],
   "source": [
    "diccionario = {}\n",
    "\n",
    "for track in df_lyrics_filtrado['Song']:\n",
    "    \n",
    "    df_especific = df_lyrics_filtrado[df_lyrics_filtrado['Song'] == track]\n",
    "    cadena = \"  \".join(df_especific['Lyric'])\n",
    "    diccionario[track] = cadena"
   ]
  },
  {
   "cell_type": "code",
   "execution_count": 121,
   "metadata": {},
   "outputs": [],
   "source": [
    "df_lyrics_clean = df_lyrics_filtrado.drop_duplicates(subset = 'Song')"
   ]
  },
  {
   "cell_type": "code",
   "execution_count": 122,
   "metadata": {},
   "outputs": [],
   "source": [
    "lista_a_dropear = []\n",
    "\n",
    "for cancion in df_lyrics_clean['Song']:\n",
    "    \n",
    "    if '[From the Vault]' in cancion:\n",
    "        lista_a_dropear.append(cancion)"
   ]
  },
  {
   "cell_type": "code",
   "execution_count": 123,
   "metadata": {},
   "outputs": [],
   "source": [
    "df_lyrics_clean = df_lyrics_clean[~df_lyrics_clean['Song'].isin(lista_a_dropear)]"
   ]
  },
  {
   "cell_type": "code",
   "execution_count": 124,
   "metadata": {},
   "outputs": [],
   "source": [
    "df_lyrics_clean['Lyrics'] = df_lyrics_clean.apply(lambda x : diccionario[x['Song']], axis=1)"
   ]
  },
  {
   "cell_type": "code",
   "execution_count": 125,
   "metadata": {},
   "outputs": [],
   "source": [
    "df_lyrics_clean.drop(columns = ['Lyric', 'Previous Lyric', 'Next Lyric', 'Multiplicity'], inplace=True)"
   ]
  },
  {
   "cell_type": "code",
   "execution_count": 126,
   "metadata": {},
   "outputs": [],
   "source": [
    "df_lyrics_clean = df_lyrics_clean.reset_index().drop('index', axis=1)"
   ]
  },
  {
   "cell_type": "code",
   "execution_count": 127,
   "metadata": {},
   "outputs": [],
   "source": [
    "df_lyrics = pd.concat([df_lyrics_clean, df_last_album], ignore_index=True)"
   ]
  },
  {
   "cell_type": "code",
   "execution_count": 128,
   "metadata": {},
   "outputs": [],
   "source": [
    "df_lyrics['Song'] = df_lyrics['Song'].apply(lambda x : x.replace(' (Taylor’s Version)', ''))\n",
    "df_lyrics['Album'] = df_lyrics['Album'].apply(lambda x : x.replace(' (Taylor’s Version)', ''))\n",
    "df_lyrics['Album'] = df_lyrics['Album'].apply(lambda x : x.replace(' (Deluxe)', ''))"
   ]
  },
  {
   "cell_type": "code",
   "execution_count": 129,
   "metadata": {},
   "outputs": [],
   "source": [
    "words = ['In ', 'On ', 'At ', 'By ', 'For ', 'With ', 'From ', 'To ', 'Into ', 'Onto ', 'Of ', 'About ', 'Above ', 'Below ', 'Under ', 'Over ', 'Through ', 'Between ', 'Among ', 'Within ', 'The ', 'But ', 'A ', 'Oh ', 'Oh,', 'It ', 'If ', 'How ', 'Where ', 'When ', 'What ', 'Who ', 'Why ', 'But ', 'Because ', 'An ', 'And ', 'May ']\n",
    "pattern = r\"'[^ ]*\"\n",
    "df_lyrics['Lyrics'] = df_lyrics['Lyrics'].apply(lambda x : re.sub(pattern, '', x))\n",
    "\n",
    "for word in words:\n",
    "    df_lyrics['Lyrics'] = df_lyrics['Lyrics'].str.replace(word , ' ')\n",
    "    df_lyrics['Lyrics'] = df_lyrics['Lyrics'].str.replace(f' {word.lower()}' , ' ')\n"
   ]
  },
  {
   "cell_type": "code",
   "execution_count": 131,
   "metadata": {},
   "outputs": [],
   "source": [
    "df_genres = df_genres.merge(df_lyrics, left_on='song', right_on='Song', how='left')"
   ]
  },
  {
   "cell_type": "code",
   "execution_count": 140,
   "metadata": {},
   "outputs": [
    {
     "data": {
      "text/html": [
       "<div>\n",
       "<style scoped>\n",
       "    .dataframe tbody tr th:only-of-type {\n",
       "        vertical-align: middle;\n",
       "    }\n",
       "\n",
       "    .dataframe tbody tr th {\n",
       "        vertical-align: top;\n",
       "    }\n",
       "\n",
       "    .dataframe thead th {\n",
       "        text-align: right;\n",
       "    }\n",
       "</style>\n",
       "<table border=\"1\" class=\"dataframe\">\n",
       "  <thead>\n",
       "    <tr style=\"text-align: right;\">\n",
       "      <th></th>\n",
       "      <th>album</th>\n",
       "      <th>genre</th>\n",
       "      <th>song</th>\n",
       "      <th>Song</th>\n",
       "      <th>Album</th>\n",
       "      <th>Lyrics</th>\n",
       "    </tr>\n",
       "  </thead>\n",
       "  <tbody>\n",
       "    <tr>\n",
       "      <th>0</th>\n",
       "      <td>Taylor Swift</td>\n",
       "      <td>Country pop</td>\n",
       "      <td>Teardrops on My Guitar</td>\n",
       "      <td>NaN</td>\n",
       "      <td>NaN</td>\n",
       "      <td>NaN</td>\n",
       "    </tr>\n",
       "    <tr>\n",
       "      <th>1</th>\n",
       "      <td>Taylor Swift</td>\n",
       "      <td>Pop rock</td>\n",
       "      <td>Should’ve Said No</td>\n",
       "      <td>Should’ve Said No</td>\n",
       "      <td>Taylor Swift</td>\n",
       "      <td>strange think songs we used sing   smiles, fl...</td>\n",
       "    </tr>\n",
       "    <tr>\n",
       "      <th>2</th>\n",
       "      <td>Taylor Swift</td>\n",
       "      <td>Fiestas y Tradiciones</td>\n",
       "      <td>Tied Together With a Smile</td>\n",
       "      <td>NaN</td>\n",
       "      <td>NaN</td>\n",
       "      <td>NaN</td>\n",
       "    </tr>\n",
       "    <tr>\n",
       "      <th>3</th>\n",
       "      <td>Taylor Swift</td>\n",
       "      <td>Fiestas y Tradiciones</td>\n",
       "      <td>A Place in This World</td>\n",
       "      <td>NaN</td>\n",
       "      <td>NaN</td>\n",
       "      <td>NaN</td>\n",
       "    </tr>\n",
       "    <tr>\n",
       "      <th>4</th>\n",
       "      <td>Taylor Swift</td>\n",
       "      <td>Fiestas y Tradiciones</td>\n",
       "      <td>Should’ve Said No</td>\n",
       "      <td>Should’ve Said No</td>\n",
       "      <td>Taylor Swift</td>\n",
       "      <td>strange think songs we used sing   smiles, fl...</td>\n",
       "    </tr>\n",
       "    <tr>\n",
       "      <th>5</th>\n",
       "      <td>Taylor Swift</td>\n",
       "      <td>Fiestas y Tradiciones</td>\n",
       "      <td>Tim McGraw</td>\n",
       "      <td>Tim McGraw</td>\n",
       "      <td>Taylor Swift</td>\n",
       "      <td>He said way my blue eyes shined  Put those Geo...</td>\n",
       "    </tr>\n",
       "    <tr>\n",
       "      <th>6</th>\n",
       "      <td>Taylor Swift</td>\n",
       "      <td>Fiestas y Tradiciones</td>\n",
       "      <td>Our Song</td>\n",
       "      <td>Our Song</td>\n",
       "      <td>Taylor Swift</td>\n",
       "      <td>I was ridin shotgun my hair undone   front sea...</td>\n",
       "    </tr>\n",
       "    <tr>\n",
       "      <th>7</th>\n",
       "      <td>Taylor Swift</td>\n",
       "      <td>Soft rock</td>\n",
       "      <td>Teardrops on My Guitar</td>\n",
       "      <td>NaN</td>\n",
       "      <td>NaN</td>\n",
       "      <td>NaN</td>\n",
       "    </tr>\n",
       "    <tr>\n",
       "      <th>8</th>\n",
       "      <td>Taylor Swift</td>\n",
       "      <td>Country</td>\n",
       "      <td>Tied Together With a Smile</td>\n",
       "      <td>NaN</td>\n",
       "      <td>NaN</td>\n",
       "      <td>NaN</td>\n",
       "    </tr>\n",
       "    <tr>\n",
       "      <th>9</th>\n",
       "      <td>Taylor Swift</td>\n",
       "      <td>Country</td>\n",
       "      <td>Stay Beautiful</td>\n",
       "      <td>Stay Beautiful</td>\n",
       "      <td>Taylor Swift</td>\n",
       "      <td>Corey eyes are like jungle  He smiles, like ra...</td>\n",
       "    </tr>\n",
       "  </tbody>\n",
       "</table>\n",
       "</div>"
      ],
      "text/plain": [
       "          album                  genre                        song  \\\n",
       "0  Taylor Swift            Country pop      Teardrops on My Guitar   \n",
       "1  Taylor Swift               Pop rock           Should’ve Said No   \n",
       "2  Taylor Swift  Fiestas y Tradiciones  Tied Together With a Smile   \n",
       "3  Taylor Swift  Fiestas y Tradiciones       A Place in This World   \n",
       "4  Taylor Swift  Fiestas y Tradiciones           Should’ve Said No   \n",
       "5  Taylor Swift  Fiestas y Tradiciones                  Tim McGraw   \n",
       "6  Taylor Swift  Fiestas y Tradiciones                    Our Song   \n",
       "7  Taylor Swift              Soft rock      Teardrops on My Guitar   \n",
       "8  Taylor Swift                Country  Tied Together With a Smile   \n",
       "9  Taylor Swift                Country              Stay Beautiful   \n",
       "\n",
       "                Song         Album  \\\n",
       "0                NaN           NaN   \n",
       "1  Should’ve Said No  Taylor Swift   \n",
       "2                NaN           NaN   \n",
       "3                NaN           NaN   \n",
       "4  Should’ve Said No  Taylor Swift   \n",
       "5         Tim McGraw  Taylor Swift   \n",
       "6           Our Song  Taylor Swift   \n",
       "7                NaN           NaN   \n",
       "8                NaN           NaN   \n",
       "9     Stay Beautiful  Taylor Swift   \n",
       "\n",
       "                                              Lyrics  \n",
       "0                                                NaN  \n",
       "1   strange think songs we used sing   smiles, fl...  \n",
       "2                                                NaN  \n",
       "3                                                NaN  \n",
       "4   strange think songs we used sing   smiles, fl...  \n",
       "5  He said way my blue eyes shined  Put those Geo...  \n",
       "6  I was ridin shotgun my hair undone   front sea...  \n",
       "7                                                NaN  \n",
       "8                                                NaN  \n",
       "9  Corey eyes are like jungle  He smiles, like ra...  "
      ]
     },
     "execution_count": 140,
     "metadata": {},
     "output_type": "execute_result"
    }
   ],
   "source": [
    "df_genres.head(10)"
   ]
  },
  {
   "cell_type": "code",
   "execution_count": 139,
   "metadata": {},
   "outputs": [
    {
     "data": {
      "text/plain": [
       "array(['Teardrops on My Guitar', 'Tied Together With a Smile',\n",
       "       'A Place in This World', 'Picture to Burn', \"You're Not Sorry\",\n",
       "       'Wildest Dreams', 'Out of the Woods', 'How You Get the Girl',\n",
       "       'Welcome To New York', '…Ready for It?',\n",
       "       'Dancing With Our Hands Tied', 'King of My Heart', 'So It Goes…',\n",
       "       'It’s Nice To Have A Friend', 'Death By A Thousand Cuts',\n",
       "       'You Need to Calm Down', 'epiphany', 'cardigan', 'august', 'betty',\n",
       "       'invisible string', 'the last great american dynasty', 'mad woman',\n",
       "       'the 1', 'peace', 'Mirrorball', 'exile', 'illicit affairs', 'hoax',\n",
       "       'this is me trying', 'My Tears Ricochet', 'seven', 'dorothea',\n",
       "       'ivy', 'champagne problems', 'tolerate it', '‘tis the damn season',\n",
       "       'willow', 'no body, no crime', 'long story short', 'coney island',\n",
       "       'closure', 'happiness', 'marjorie', 'gold rush', 'cowboy like me',\n",
       "       'evermore', 'Fresh Out the Slammer',\n",
       "       'Who’s Afraid of Little Old Me?',\n",
       "       'I Can Do It With a Broken Heart'], dtype=object)"
      ]
     },
     "execution_count": 139,
     "metadata": {},
     "output_type": "execute_result"
    }
   ],
   "source": [
    "df_genres[df_genres['Song'].isnull()]['song'].unique()"
   ]
  },
  {
   "cell_type": "code",
   "execution_count": null,
   "metadata": {},
   "outputs": [],
   "source": [
    "#df_lyrics.to_csv('files/taylor_full_lyrics_w_genre.csv', index=False)"
   ]
  },
  {
   "cell_type": "markdown",
   "metadata": {},
   "source": [
    "## Limpieza DF Twitter"
   ]
  },
  {
   "cell_type": "code",
   "execution_count": null,
   "metadata": {},
   "outputs": [],
   "source": [
    "df_tuits = pd.read_csv('files/TaylorSwift13.csv')"
   ]
  },
  {
   "cell_type": "code",
   "execution_count": null,
   "metadata": {},
   "outputs": [],
   "source": [
    "df_tuits.drop('created_at', axis=1, inplace=True)"
   ]
  },
  {
   "cell_type": "code",
   "execution_count": null,
   "metadata": {},
   "outputs": [],
   "source": [
    "df_tuits['date'] = df_tuits['date'].apply(lambda x : x.replace('+00:00', ''))"
   ]
  },
  {
   "cell_type": "code",
   "execution_count": null,
   "metadata": {},
   "outputs": [],
   "source": [
    "df_tuits['media'] = df_tuits['media'].apply(lambda x : 1 if isinstance(x, str) else 0)\n",
    "df_tuits['outlinks'] = df_tuits['outlinks'].apply(lambda x : 0 if x == '[]' else 1)\n",
    "df_tuits['quotedTweet'] = df_tuits['quotedTweet'].apply(lambda x : 1 if isinstance(x, str) else 0)\n",
    "df_tuits['retweetedTweet'] = df_tuits['retweetedTweet'].apply(lambda x : 1 if isinstance(x, str) else 0)\n",
    "\n",
    "df_tuits['content'] = df_tuits['content'].apply(lambda x : x.replace('\\n', ' '))"
   ]
  },
  {
   "cell_type": "code",
   "execution_count": null,
   "metadata": {},
   "outputs": [],
   "source": [
    "df_tuits['users'] = df_tuits.apply(lambda x : re.findall(r'@\\S+', x['content']), axis=1)"
   ]
  },
  {
   "cell_type": "code",
   "execution_count": null,
   "metadata": {},
   "outputs": [],
   "source": [
    "df_citados = df_tuits[['content', 'date', 'users']]"
   ]
  },
  {
   "cell_type": "code",
   "execution_count": null,
   "metadata": {},
   "outputs": [],
   "source": [
    "df_tuits.drop('users', axis=1, inplace=True)"
   ]
  },
  {
   "cell_type": "code",
   "execution_count": null,
   "metadata": {},
   "outputs": [],
   "source": [
    "df_citados = df_citados.explode('users')"
   ]
  },
  {
   "cell_type": "code",
   "execution_count": null,
   "metadata": {},
   "outputs": [],
   "source": [
    "df_citados.dropna(subset='users', inplace = True)"
   ]
  },
  {
   "cell_type": "code",
   "execution_count": null,
   "metadata": {},
   "outputs": [],
   "source": [
    "#df_tuits.to_csv('files/taylor_tuits_limpio.csv', index=False)\n",
    "#df_citados.to_csv('files/taylor_tuits_citados.csv', index=False)"
   ]
  }
 ],
 "metadata": {
  "kernelspec": {
   "display_name": "Python 3",
   "language": "python",
   "name": "python3"
  },
  "language_info": {
   "codemirror_mode": {
    "name": "ipython",
    "version": 3
   },
   "file_extension": ".py",
   "mimetype": "text/x-python",
   "name": "python",
   "nbconvert_exporter": "python",
   "pygments_lexer": "ipython3",
   "version": "3.9.13"
  }
 },
 "nbformat": 4,
 "nbformat_minor": 2
}
